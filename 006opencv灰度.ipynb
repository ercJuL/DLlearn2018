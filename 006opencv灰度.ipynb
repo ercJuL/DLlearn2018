{
 "cells": [
  {
   "cell_type": "code",
   "execution_count": 1,
   "metadata": {},
   "outputs": [],
   "source": [
    "import cv2"
   ]
  },
  {
   "cell_type": "code",
   "execution_count": 2,
   "metadata": {},
   "outputs": [],
   "source": [
    "# 直接读取灰度\n",
    "img = cv2.imread(r'E:\\MyProject\\DLLearn\\002testimg.png',0)\n",
    "\n",
    "# 颜色转换\n",
    "img = cv2.imread(r'E:\\MyProject\\DLLearn\\002testimg.png',1)\n",
    "dst = cv2.cvtColor(img, cv2.COLOR_RGB2GRAY)"
   ]
  },
  {
   "cell_type": "markdown",
   "metadata": {},
   "source": [
    "## 其它转灰度方法\n",
    "- (R + G + B) / 3\n",
    "- R*0.299 + G*0.687 + B*0.114"
   ]
  }
 ],
 "metadata": {
  "kernelspec": {
   "display_name": "Python 3",
   "language": "python",
   "name": "python3"
  },
  "language_info": {
   "codemirror_mode": {
    "name": "ipython",
    "version": 3
   },
   "file_extension": ".py",
   "mimetype": "text/x-python",
   "name": "python",
   "nbconvert_exporter": "python",
   "pygments_lexer": "ipython3",
   "version": "3.6.7"
  }
 },
 "nbformat": 4,
 "nbformat_minor": 2
}
