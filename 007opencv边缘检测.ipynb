{
 "cells": [
  {
   "cell_type": "code",
   "execution_count": 2,
   "metadata": {},
   "outputs": [],
   "source": [
    "import cv2\n",
    "import numpy as np\n",
    "import random"
   ]
  },
  {
   "cell_type": "code",
   "execution_count": 3,
   "metadata": {},
   "outputs": [],
   "source": [
    "img = cv2.imread(r'E:\\MyProject\\DLLearn\\002testimg.png',0)\n",
    "imgG = cv2.GaussianBlur(img, (3,3), 0) # 高斯滤波 灰度图像 模板大小 均值\n",
    "dst = cv2.Canny(img, 50, 50) # 边缘检测 图片卷积运算后门限\n",
    "cv2.imshow('dst', dst)\n",
    "cv2.waitKey(0)\n",
    "cv2.destroyAllWindows()"
   ]
  },
  {
   "cell_type": "markdown",
   "metadata": {},
   "source": [
    "## sobel\n",
    "- 算子模板  \n",
    " x方向  \n",
    "$\\begin{bmatrix}\n",
    "-1 & 0 & +1 \\\\ \n",
    "-2 & 0 & +2 \\\\ \n",
    "-1 & 0 & +1\n",
    "\\end{bmatrix}$  \n",
    " y方向  \n",
    " $\\begin{bmatrix}\n",
    "+1 & +2 & +1 \\\\ \n",
    "0 & 0 & 0 \\\\ \n",
    "-1 & -2 & -1\n",
    "\\end{bmatrix}$ \n",
    "- 图片卷积\n",
    "- 阈值判断"
   ]
  },
  {
   "cell_type": "code",
   "execution_count": null,
   "metadata": {},
   "outputs": [],
   "source": []
  }
 ],
 "metadata": {
  "kernelspec": {
   "display_name": "Python 3",
   "language": "python",
   "name": "python3"
  },
  "language_info": {
   "codemirror_mode": {
    "name": "ipython",
    "version": 3
   },
   "file_extension": ".py",
   "mimetype": "text/x-python",
   "name": "python",
   "nbconvert_exporter": "python",
   "pygments_lexer": "ipython3",
   "version": "3.6.7"
  }
 },
 "nbformat": 4,
 "nbformat_minor": 2
}
