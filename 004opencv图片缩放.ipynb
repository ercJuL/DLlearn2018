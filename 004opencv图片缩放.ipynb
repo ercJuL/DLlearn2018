{
 "cells": [
  {
   "cell_type": "code",
   "execution_count": 1,
   "metadata": {},
   "outputs": [],
   "source": [
    "import cv2"
   ]
  },
  {
   "cell_type": "code",
   "execution_count": 2,
   "metadata": {},
   "outputs": [
    {
     "name": "stdout",
     "output_type": "stream",
     "text": [
      "(138, 291, 3) <---> (高度, 宽度, 颜色深度)\n"
     ]
    }
   ],
   "source": [
    "img = cv2.imread(r'E:\\MyProject\\DLLearn\\002testimg.png',1)\n",
    "imgInfo = img.shape # 图像信息\n",
    "print(imgInfo, '<--->', '(高度, 宽度, 颜色深度)')"
   ]
  },
  {
   "cell_type": "markdown",
   "metadata": {},
   "source": [
    "缩放"
   ]
  },
  {
   "cell_type": "code",
   "execution_count": 4,
   "metadata": {},
   "outputs": [],
   "source": [
    "dstHeight = int(imgInfo[0]*0.5)\n",
    "dstWidth = int(imgInfo[1]*0.5)\n",
    "dst = cv2.resize(img, (dstWidth, dstHeight))\n",
    "cv2.imshow('0.5*img', dst)\n",
    "cv2.waitKey(0)"
   ]
  },
  {
   "cell_type": "code",
   "execution_count": 5,
   "metadata": {},
   "outputs": [],
   "source": [
    "import numpy as np"
   ]
  },
  {
   "cell_type": "markdown",
   "metadata": {},
   "source": [
    "- 最近领域插值法  \n",
    "src 10 * 20 dst 5 * 10  \n",
    "dst <- src  \n",
    "(1,2) <- (2,4)  \n",
    "dst x <- $x_{src} * \\frac{width_{src}}{width_{dst}}$  \n",
    "dst y <- $y_{src} * \\frac{height_{src}}{height_{dst}}$ \n",
    " "
   ]
  },
  {
   "cell_type": "code",
   "execution_count": 7,
   "metadata": {},
   "outputs": [
    {
     "data": {
      "text/plain": [
       "13"
      ]
     },
     "execution_count": 7,
     "metadata": {},
     "output_type": "execute_result"
    }
   ],
   "source": [
    "dstImage = np.zeros((dstHeight, dstWidth, 3), np.uint8)\n",
    "for i in range(0, dstHeight):\n",
    "    for j in range(0, dstWidth):\n",
    "        iNew = int(i*(imgInfo[0]/dstHeight))\n",
    "        jNew = int(j*(imgInfo[1]/dstWidth))\n",
    "        dstImage[i,j] = img[iNew,jNew]\n",
    "cv2.imshow('最近领域插值法', dstImage)\n",
    "cv2.waitKey(0)"
   ]
  },
  {
   "cell_type": "markdown",
   "metadata": {},
   "source": [
    "- 双线性插值  \n",
    "dst(x,y) <- src(15.2, 15.4)  \n",
    "$src_1 = (15,15)$  \n",
    "$src_2 = (16,16)$  \n",
    "dst.x = $src.x_{15.2} * \\frac{src_{x2}-dst_x}{src_{x2}-src_{x1}} + src.x_{16} * \\frac{dst_x-src_{x1}}{src_{x2}-src_{x1}}$  \n",
    "dst.y = $src.y_{15.4} * \\frac{src_{y2}-dst_y}{src_{y2}-src_{y1}} + src.y_{16} * \\frac{dst_y-src_{y1}}{src_{y2}-src_{y1}}$ "
   ]
  }
 ],
 "metadata": {
  "kernelspec": {
   "display_name": "Python 3",
   "language": "python",
   "name": "python3"
  },
  "language_info": {
   "codemirror_mode": {
    "name": "ipython",
    "version": 3
   },
   "file_extension": ".py",
   "mimetype": "text/x-python",
   "name": "python",
   "nbconvert_exporter": "python",
   "pygments_lexer": "ipython3",
   "version": "3.6.7"
  }
 },
 "nbformat": 4,
 "nbformat_minor": 2
}
