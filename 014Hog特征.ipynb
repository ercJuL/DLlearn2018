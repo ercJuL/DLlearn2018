{
 "cells": [
  {
   "cell_type": "code",
   "execution_count": null,
   "metadata": {},
   "outputs": [],
   "source": [
    "# 【3780】hog svm line训练【3780】\n",
    "#。hog*svm = 值\n",
    "# 值》T 目标obj "
   ]
  },
  {
   "cell_type": "code",
   "execution_count": null,
   "metadata": {},
   "outputs": [],
   "source": [
    "#整体hog cell复用\n",
    "# 3780\n",
    "# 3780 《-win（block cell bin）\n",
    "# 1《-bin\n",
    "# cell0 cell3 bin0-bin8\n",
    "# cell0: bin0 bin1 。。。bin8\n",
    "# cell1: bin0 bin1 。。。bin8\n",
    "# cell2: bin0 bin1 。。。bin8\n",
    "# cell3: bin0 bin1 。。。bin8\n",
    "#ij cell0 bin0=《f0，\n",
    "#i+1 j cell0 bin0 = f1\n",
    "#ij。。。。\n",
    "# sumbin0（f0+f1.。）= bin0\n",
    "# 权重累加\n",
    "#ij bin0 bin1 \n",
    "\n",
    "# cell复用\n",
    "\n",
    "# block 4个cell\n",
    "# 【0】【】【】【3】\n",
    "# cell0 bin0-bin9 \n",
    "# cellx0 cellx2 cellx4\n",
    "# cellx0:ij-》bin bin+1\n",
    "# cellx2：ij -》 cell2 cell3 -》bin bin+1 bin bin+1\n",
    "# cellx4：ij\n",
    "\n",
    "# 【cell 9】【4cell】【105】 = 3780"
   ]
  },
  {
   "cell_type": "code",
   "execution_count": null,
   "metadata": {},
   "outputs": [],
   "source": [
    "# bin 投影 梯度\n",
    "# bin 0-360 9bin 0-40\n",
    "# bin1 0-20 180-200\n",
    "# ij f a = 10\n",
    "# 0-20 center bin1 a=190 180 200 bin1\n",
    "# f \n",
    "# 25 bin1 bin2 \n",
    "# f1 = f*f（夹角） f2 = f*（1-f（夹角））  f（夹角）  0-1.0\n",
    "# +1 hog "
   ]
  },
  {
   "cell_type": "code",
   "execution_count": null,
   "metadata": {},
   "outputs": [],
   "source": [
    "#2·2 梯度 方向 模版\n",
    "# 像素都有一个梯度 》hog== win\n",
    "# 特征模版-》haar类似\n",
    "# 【1 0 -1】【【1】【0】【-1】】\n",
    "# a = p1*1+p2*0+p3*(-1) = 相邻像素之差\n",
    "# b = 上下像素之差\n",
    "# f = 根号下（a方+b方）\n",
    "# angle = arctan（a/b）"
   ]
  },
  {
   "cell_type": "code",
   "execution_count": null,
   "metadata": {},
   "outputs": [],
   "source": [
    "#7 cell bin 梯度：运算\n",
    "# 每个像素-》梯度 ：大小 f 方向 angle\n",
    "# 0-360 /40 = 9块 = 9bin\n",
    "# 1bin = 40 cell-》360-〉9bin\n",
    "# hog特征维度：\n",
    "# haar 值 hog 向量 （维度）-》完全描述 一个obj info all\n",
    "# 维度 = 105*4*9=3780 "
   ]
  },
  {
   "cell_type": "code",
   "execution_count": null,
   "metadata": {},
   "outputs": [],
   "source": [
    "#1 什么是hog》？特征 某个像素 某种运算\n",
    "#2 2·1 模块划分 2·2 梯度 方向 模版 2·3 bin 投影 2·4 每个模块hog\n",
    "#2·1 模块划分 \n",
    "# image（ppt） win（蓝色） block（红色） cell （绿色）（size）\n",
    "#image》win〉block》cell\n",
    "#block setp  win step cell bin \n",
    "#win 特征计算最顶层单元 -》obj \n",
    "# 1 win size 50*100 20*50    64*128\n",
    "# 2 2.1 block 《win 2.2 win size w h / block （wh） 16*16\n",
    "# 3 block step  如何win下滑动 8*8\n",
    "# 4 计算block cout = （（64-16）/8+1）*（（128-16）/8+1）= 105 block\n",
    "# 5 cell size 8*8 \n",
    "# 6 block = ？cell 16*16 = 2*2 = 》4cell  cell1-cell4\n",
    "# 7 bin？"
   ]
  }
 ],
 "metadata": {
  "kernelspec": {
   "display_name": "Python 3",
   "language": "python",
   "name": "python3"
  },
  "language_info": {
   "codemirror_mode": {
    "name": "ipython",
    "version": 3
   },
   "file_extension": ".py",
   "mimetype": "text/x-python",
   "name": "python",
   "nbconvert_exporter": "python",
   "pygments_lexer": "ipython3",
   "version": "3.6.7"
  }
 },
 "nbformat": 4,
 "nbformat_minor": 2
}
