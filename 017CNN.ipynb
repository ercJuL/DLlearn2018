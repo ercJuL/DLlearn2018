{
 "cells": [
  {
   "cell_type": "code",
   "execution_count": null,
   "metadata": {},
   "outputs": [
    {
     "name": "stdout",
     "output_type": "stream",
     "text": [
      "Extracting MNIST_data/train-images-idx3-ubyte.gz\n",
      "Extracting MNIST_data/train-labels-idx1-ubyte.gz\n",
      "Extracting MNIST_data/t10k-images-idx3-ubyte.gz\n",
      "Extracting MNIST_data/t10k-labels-idx1-ubyte.gz\n"
     ]
    }
   ],
   "source": [
    "#cnn : 1 卷积\n",
    "# ABC \n",
    "# A: 激励函数+矩阵 乘法加法\n",
    "# A CNN :  pool（激励函数+矩阵 卷积 加法）\n",
    "# C：激励函数+矩阵 乘法加法（A-》B）\n",
    "# C：激励函数+矩阵 乘法加法（A-》B） + softmax（矩阵 乘法加法）\n",
    "# loss：tf.reduce_mean(tf.square(y-layer2))\n",
    "# loss：code\n",
    "#1 import \n",
    "import tensorflow as tf\n",
    "import numpy as np\n",
    "from tensorflow.examples.tutorials.mnist import input_data\n",
    "# 2 load data\n",
    "mnist = input_data.read_data_sets('MNIST_data',one_hot = True)\n",
    "# 3 input\n",
    "imageInput = tf.placeholder(tf.float32,[None,784]) # 28*28 \n",
    "labeInput = tf.placeholder(tf.float32,[None,10]) # knn\n",
    "# 4 data reshape\n",
    "# [None,784]->M*28*28*1  2D->4D  28*28 wh 1 channel \n",
    "imageInputReshape = tf.reshape(imageInput,[-1,28,28,1])\n",
    "# 5 卷积 w0 : 卷积内核 5*5 out:32  in:1 \n",
    "w0 = tf.Variable(tf.truncated_normal([5,5,1,32],stddev = 0.1))\n",
    "b0 = tf.Variable(tf.constant(0.1,shape=[32]))\n",
    "# 6 # layer1：激励函数+卷积运算\n",
    "# imageInputReshape : M*28*28*1  w0:5,5,1,32  \n",
    "layer1 = tf.nn.relu(tf.nn.conv2d(imageInputReshape,w0,strides=[1,1,1,1],padding='SAME')+b0)\n",
    "# M*28*28*32\n",
    "# pool 采样 数据量减少很多M*28*28*32 => M*7*7*32\n",
    "layer1_pool = tf.nn.max_pool(layer1,ksize=[1,4,4,1],strides=[1,4,4,1],padding='SAME')\n",
    "# [1 2 3 4]->[4]\n",
    "# 7 layer2 out : 激励函数+乘加运算：  softmax（激励函数 + 乘加运算）\n",
    "# [7*7*32,1024]\n",
    "w1 = tf.Variable(tf.truncated_normal([7*7*32,1024],stddev=0.1))\n",
    "b1 = tf.Variable(tf.constant(0.1,shape=[1024]))\n",
    "h_reshape = tf.reshape(layer1_pool,[-1,7*7*32])# M*7*7*32 -> N*N1\n",
    "# [N*7*7*32]  [7*7*32,1024] = N*1024\n",
    "h1 = tf.nn.relu(tf.matmul(h_reshape,w1)+b1)\n",
    "# 7.1 softMax\n",
    "w2 = tf.Variable(tf.truncated_normal([1024,10],stddev=0.1))\n",
    "b2 = tf.Variable(tf.constant(0.1,shape=[10]))\n",
    "pred = tf.nn.softmax(tf.matmul(h1,w2)+b2)# N*1024  1024*10 = N*10\n",
    "# N*10( 概率 )N1【0.1 0.2 0.4 0.1 0.2 。。。】\n",
    "# label。        【0 0 0 0 1 0 0 0.。。】\n",
    "loss0 = labeInput*tf.log(pred)\n",
    "loss1 = 0\n",
    "# 7.2 \n",
    "for m in range(0,500):#  test 100\n",
    "    for n in range(0,10):\n",
    "        loss1 = loss1 - loss0[m,n]\n",
    "loss = loss1/500\n",
    "\n",
    "# 8 train\n",
    "train = tf.train.GradientDescentOptimizer(0.01).minimize(loss)\n",
    "# 9 run\n",
    "with tf.Session() as sess:\n",
    "    sess.run(tf.global_variables_initializer())\n",
    "    for i in range(100):\n",
    "        images,labels = mnist.train.next_batch(500)\n",
    "        sess.run(train,feed_dict={imageInput:images,labeInput:labels})\n",
    "        \n",
    "        pred_test = sess.run(pred,feed_dict={imageInput:mnist.test.images,labeInput:labels})\n",
    "        acc = tf.equal(tf.arg_max(pred_test,1),tf.arg_max(mnist.test.labels,1))\n",
    "        acc_float = tf.reduce_mean(tf.cast(acc,tf.float32))\n",
    "        acc_result = sess.run(acc_float,feed_dict={imageInput:mnist.test.images,labeInput:mnist.test.labels})\n",
    "        print(acc_result)\n",
    "        \n",
    "        \n",
    "        \n",
    "        "
   ]
  },
  {
   "cell_type": "code",
   "execution_count": null,
   "metadata": {},
   "outputs": [],
   "source": []
  }
 ],
 "metadata": {
  "kernelspec": {
   "display_name": "Python 3",
   "language": "python",
   "name": "python3"
  },
  "language_info": {
   "codemirror_mode": {
    "name": "ipython",
    "version": 3
   },
   "file_extension": ".py",
   "mimetype": "text/x-python",
   "name": "python",
   "nbconvert_exporter": "python",
   "pygments_lexer": "ipython3",
   "version": "3.6.4"
  }
 },
 "nbformat": 4,
 "nbformat_minor": 2
}
